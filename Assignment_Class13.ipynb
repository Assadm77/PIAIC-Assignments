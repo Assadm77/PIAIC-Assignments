{
 "cells": [
  {
   "cell_type": "markdown",
   "id": "61385f17",
   "metadata": {},
   "source": [
    "# Assignment 1 -\n",
    "1. import mother and father attribute\n",
    "2. add two new attributes in child constructor"
   ]
  },
  {
   "cell_type": "code",
   "execution_count": 15,
   "id": "f9db32db",
   "metadata": {},
   "outputs": [
    {
     "name": "stdout",
     "output_type": "stream",
     "text": [
      "['color', 'education', 'fname', 'hair_color', 'height', 'language', 'name', 'relign', 'slient', 'speak']\n"
     ]
    }
   ],
   "source": [
    "\n",
    "class Father():\n",
    "    def __init__(self):\n",
    "        self.name = None\n",
    "        self.fname = None\n",
    "        self.color = 'whitish'\n",
    "        self.hair_color = 'dark brown'\n",
    "        \n",
    "    def speak(self):\n",
    "        return \"Hahahah!\"\n",
    "    \n",
    "    \n",
    "class Mother():\n",
    "    def __init__(self):\n",
    "        self.height = '5.8 feet'\n",
    "        self.color = 'white'\n",
    "        self.relign = 'Muslim'\n",
    "        \n",
    "    def slient(self):\n",
    "        return \"...\"\n",
    "    \n",
    "class Child(Mother,Father):\n",
    " def __init__(self):\n",
    "        Mother.__init__(self)\n",
    "        Father.__init__(self)\n",
    "        self.education = None \n",
    "        self.language = None\n",
    "        \n",
    "        \n",
    "c1 = Child()\n",
    "print([i for i in dir(c1) if \"__\" not in i])"
   ]
  },
  {
   "cell_type": "markdown",
   "id": "0626bc27",
   "metadata": {},
   "source": [
    "# Assignment # 2\n",
    "\n",
    "Create operator overloading"
   ]
  },
  {
   "cell_type": "code",
   "execution_count": 38,
   "id": "6bd8f29a",
   "metadata": {},
   "outputs": [
    {
     "name": "stdout",
     "output_type": "stream",
     "text": [
      "Team1 Score is 250  Team2 Score is 255\n"
     ]
    }
   ],
   "source": [
    "class Scores ():\n",
    "    def __init__(self,TeamA , TeamB):\n",
    "        self.Team1 = TeamA\n",
    "        self.Team2 = TeamB\n",
    "    def __add__(self,other):\n",
    "        Team1 = self.Team1 + other.Team1 \n",
    "        Team2 = self.Team2 + other.Team2\n",
    "        Total = Scores(Team1 ,Team2)\n",
    "        return Total\n",
    "    def __str__(self):\n",
    "        return f\"Team1 Score is {self.Team1}  Team2 Score is {self.Team2}\"\n",
    "    \n",
    "Match1 = Scores(100,95)\n",
    "Match2 = Scores(150,160)\n",
    "\n",
    "Match_Total = Match1 + Match2\n",
    "\n",
    "print(Match_Total)\n",
    "        "
   ]
  }
 ],
 "metadata": {
  "kernelspec": {
   "display_name": "Python 3 (ipykernel)",
   "language": "python",
   "name": "python3"
  },
  "language_info": {
   "codemirror_mode": {
    "name": "ipython",
    "version": 3
   },
   "file_extension": ".py",
   "mimetype": "text/x-python",
   "name": "python",
   "nbconvert_exporter": "python",
   "pygments_lexer": "ipython3",
   "version": "3.9.12"
  }
 },
 "nbformat": 4,
 "nbformat_minor": 5
}
